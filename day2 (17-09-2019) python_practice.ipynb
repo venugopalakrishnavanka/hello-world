{
 "cells": [
  {
   "cell_type": "code",
   "execution_count": 6,
   "metadata": {},
   "outputs": [
    {
     "name": "stdout",
     "output_type": "stream",
     "text": [
      "2018\n",
      "This is not leap year\n"
     ]
    }
   ],
   "source": [
    "\n",
    "year = int(input(''))\n",
    "if year % 4 == 0:\n",
    "    print('leap year')\n",
    "else:\n",
    "    print('This is not leap year')"
   ]
  },
  {
   "cell_type": "markdown",
   "metadata": {},
   "source": [
    "### While Loop"
   ]
  },
  {
   "cell_type": "code",
   "execution_count": 5,
   "metadata": {},
   "outputs": [
    {
     "name": "stdout",
     "output_type": "stream",
     "text": [
      "Enter a number : 10\n",
      "1 2 3 4 5 6 7 8 9 10 "
     ]
    }
   ],
   "source": [
    "# print numbers 1 to N \n",
    "# Input : 10\n",
    "# Output :1 2 3 4 5 6 7 \n",
    "n = int(input('Enter a number : '))\n",
    "i = 1\n",
    "while i <= n:\n",
    "    print(i,end= \" \")\n",
    "    i = i + 1"
   ]
  },
  {
   "cell_type": "code",
   "execution_count": 10,
   "metadata": {},
   "outputs": [
    {
     "name": "stdout",
     "output_type": "stream",
     "text": [
      "Enter a number : 10\n",
      "30\n"
     ]
    }
   ],
   "source": [
    "n = int(input('Enter a number : '))\n",
    "i = 1\n",
    "s = 0\n",
    "while i <= n:\n",
    "    if i % 2 == 0:\n",
    "       s = s +i\n",
    "    i = i + 1\n",
    "print(s)"
   ]
  },
  {
   "cell_type": "code",
   "execution_count": 11,
   "metadata": {},
   "outputs": [
    {
     "name": "stdout",
     "output_type": "stream",
     "text": [
      "enter number123\n",
      "321"
     ]
    }
   ],
   "source": [
    "n = int(input('enter number'))\n",
    "while n != 0:\n",
    "    print(n%10,end='')\n",
    "    n = n // 10\n"
   ]
  },
  {
   "cell_type": "markdown",
   "metadata": {},
   "source": [
    "### Functional Programming\n",
    "- Simple\n",
    "- Easy understand\n",
    "- Better reusability\n",
    "- Length of the program divided into sub program"
   ]
  },
  {
   "cell_type": "code",
   "execution_count": 12,
   "metadata": {},
   "outputs": [
    {
     "ename": "SyntaxError",
     "evalue": "invalid syntax (<ipython-input-12-eb865583d4e9>, line 1)",
     "output_type": "error",
     "traceback": [
      "\u001b[1;36m  File \u001b[1;32m\"<ipython-input-12-eb865583d4e9>\"\u001b[1;36m, line \u001b[1;32m1\u001b[0m\n\u001b[1;33m    def nameoftheFunction(<parameters>):\u001b[0m\n\u001b[1;37m                          ^\u001b[0m\n\u001b[1;31mSyntaxError\u001b[0m\u001b[1;31m:\u001b[0m invalid syntax\n"
     ]
    }
   ],
   "source": [
    "def nameoftheFunction(<parameters>):\n",
    "    statements\n",
    "    return"
   ]
  },
  {
   "cell_type": "code",
   "execution_count": 14,
   "metadata": {},
   "outputs": [
    {
     "data": {
      "text/plain": [
       "6"
      ]
     },
     "execution_count": 14,
     "metadata": {},
     "output_type": "execute_result"
    }
   ],
   "source": [
    "# Read a number\n",
    "# print the even digit sum from the number\n",
    "\n",
    "#input :1234\n",
    "# output : 6(2+4)\n",
    "def evenDigitSum(n):\n",
    "    s = 0\n",
    "    while n != 0:\n",
    "        r = n % 10\n",
    "        if r % 2 == 0:\n",
    "            s = s + r\n",
    "        n = n // 10\n",
    "    return s\n",
    "evenDigitSum(1234)"
   ]
  },
  {
   "cell_type": "code",
   "execution_count": 18,
   "metadata": {},
   "outputs": [
    {
     "ename": "IndentationError",
     "evalue": "expected an indented block (<ipython-input-18-8ede9aa01968>, line 9)",
     "output_type": "error",
     "traceback": [
      "\u001b[1;36m  File \u001b[1;32m\"<ipython-input-18-8ede9aa01968>\"\u001b[1;36m, line \u001b[1;32m9\u001b[0m\n\u001b[1;33m    max_value = element\u001b[0m\n\u001b[1;37m            ^\u001b[0m\n\u001b[1;31mIndentationError\u001b[0m\u001b[1;31m:\u001b[0m expected an indented block\n"
     ]
    }
   ],
   "source": [
    "# input : 19535\n",
    "#output : 9(large digit of the given number)\n",
    "#functional programming\n",
    "\n",
    "def largeDigit(n):\n",
    "    input_list = []\n",
    "    for element in input_list:\n",
    "        if element>max_value:\n",
    "        max_value = element\n",
    "    input_list.append(n)\n",
    "    return max_value\n",
    "largeDigit(19535)"
   ]
  },
  {
   "cell_type": "code",
   "execution_count": 19,
   "metadata": {},
   "outputs": [
    {
     "name": "stdout",
     "output_type": "stream",
     "text": [
      "Enter the number of elements  :10\n",
      "Enter the number of elem  :5\n",
      "Enter the number of elem  :9\n",
      "Enter the number of elem  :4\n",
      "Enter the number of elem  :3\n",
      "Enter the number of elem  :2\n",
      "Enter the number of elem  :6\n",
      "Enter the number of elem  :1\n",
      "Enter the number of elem  :5\n",
      "Enter the number of elem  :9\n",
      "Enter the number of elem  :7\n",
      "Maximum value is : 9\n"
     ]
    }
   ],
   "source": [
    "def largest():\n",
    "\n",
    "    n = int(input(\"Enter the number of elements  :\"))\n",
    "\n",
    "    input_list = []\n",
    "\n",
    "    for i in range(n):\n",
    "        num = input(\"Enter the number of elem  :\")\t\t\n",
    "        input_list.append(num)\n",
    "\n",
    "        max_value = input_list[0]\n",
    "\n",
    "    for element in input_list:\n",
    "        if element>max_value:\n",
    "            max_value = element\n",
    "\n",
    "    print(\"Maximum value is :\",max_value)\n",
    "\n",
    "largest()\n"
   ]
  },
  {
   "cell_type": "code",
   "execution_count": 20,
   "metadata": {},
   "outputs": [],
   "source": [
    "# Read a number as input\n",
    "# output yes or No\n",
    "\n",
    "# input :145\n",
    "# output : yes\n",
    "\n",
    "# input :123\n",
    "# output : no\n",
    "\n",
    "# Individual Digit dactorial sum is same as input number\n"
   ]
  },
  {
   "cell_type": "code",
   "execution_count": 22,
   "metadata": {},
   "outputs": [
    {
     "name": "stdout",
     "output_type": "stream",
     "text": [
      "Enter the num : 145\n",
      "Factorial value is :  804792605747199194484902925779806277109997439007500616344745281047115412373646521410850481879839649227439298230298915019813108221651663659572441609408556917739149315905992811411866635786075524601835815642793302504243200000000000000000000000000000000000\n"
     ]
    }
   ],
   "source": [
    "def fact(num):\n",
    "\tif num == 0 or num == 1:\n",
    "\t\treturn 1\n",
    "\telse:\n",
    "\t\treturn num*fact(num-1)\n",
    "num = int(input(\"Enter the num : \"))\n",
    "fact_value = fact(num)\n",
    "print(\"Factorial value is : \",fact_value)\n"
   ]
  },
  {
   "cell_type": "code",
   "execution_count": 27,
   "metadata": {},
   "outputs": [
    {
     "name": "stdout",
     "output_type": "stream",
     "text": [
      "yes\n",
      "No\n"
     ]
    }
   ],
   "source": [
    "def factorial(n):\n",
    "    fact = 1\n",
    "    i = 1\n",
    "    while i <= n:\n",
    "        fact = fact * i\n",
    "        i = i + 1\n",
    "    return fact\n",
    "def digitfactsum(n):\n",
    "    s = 0\n",
    "    buffer = n\n",
    "    while n != 0:\n",
    "        r = n % 10\n",
    "        s += factorial(r)\n",
    "        n = n // 10\n",
    "    if buffer == s:\n",
    "        return \"yes\"\n",
    "    else :\n",
    "        return \"No\"\n",
    "    return\n",
    "print(digitfactsum(145))\n",
    "print(digitfactsum(123))\n"
   ]
  },
  {
   "cell_type": "code",
   "execution_count": 3,
   "metadata": {},
   "outputs": [
    {
     "name": "stdout",
     "output_type": "stream",
     "text": [
      "some string: \n",
      "121\n",
      "this is palindrome: 121\n"
     ]
    }
   ],
   "source": [
    "def isPalindrome():\n",
    "    rev = s[::-1]\n",
    "    if s == rev:\n",
    "       print(\"this is palindrome:\",rev)\n",
    "    else:\n",
    "       print(\"this is not palindrome:\",rev)  \n",
    "          \n",
    "s=input(\"some string: \\n\")\n",
    "isPalindrome()"
   ]
  },
  {
   "cell_type": "code",
   "execution_count": 1,
   "metadata": {},
   "outputs": [
    {
     "name": "stdout",
     "output_type": "stream",
     "text": [
      "some string: \n",
      "123\n",
      "this is not palindrome: 321\n"
     ]
    }
   ],
   "source": [
    "def isPalindrome():\n",
    "    rev = s[::-1]\n",
    "    if s == rev:\n",
    "       print(\"this is palindrome:\",rev)\n",
    "    else:\n",
    "       print(\"this is not palindrome:\",rev)  \n",
    "          \n",
    "s=input(\"some string: \\n\")\n",
    "isPalindrome()"
   ]
  },
  {
   "cell_type": "markdown",
   "metadata": {},
   "source": [
    "### While loop is used when there is no fixed number of iterations\n",
    "### or \n",
    "### For loop can be used when you know fixed number of iterations\n"
   ]
  },
  {
   "cell_type": "code",
   "execution_count": 4,
   "metadata": {},
   "outputs": [
    {
     "name": "stdout",
     "output_type": "stream",
     "text": [
      "11 12 13 14 15 16 17 18 19 20 21 22 23 24 25 "
     ]
    }
   ],
   "source": [
    "def printseries(lb,ub):\n",
    "    for x in range(lb,ub+1):\n",
    "        print(x,end = ' ')\n",
    "    return\n",
    "printseries(11,25)"
   ]
  },
  {
   "cell_type": "code",
   "execution_count": null,
   "metadata": {},
   "outputs": [],
   "source": []
  }
 ],
 "metadata": {
  "kernelspec": {
   "display_name": "Python 3",
   "language": "python",
   "name": "python3"
  },
  "language_info": {
   "codemirror_mode": {
    "name": "ipython",
    "version": 3
   },
   "file_extension": ".py",
   "mimetype": "text/x-python",
   "name": "python",
   "nbconvert_exporter": "python",
   "pygments_lexer": "ipython3",
   "version": "3.7.1"
  }
 },
 "nbformat": 4,
 "nbformat_minor": 2
}
