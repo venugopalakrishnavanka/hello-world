{
 "cells": [
  {
   "cell_type": "markdown",
   "metadata": {},
   "source": [
    "# python programming lab\n",
    "## python programming lab\n",
    "### python programming lab\n",
    "#### python programming lab\n",
    "##### python programming lab"
   ]
  },
  {
   "cell_type": "markdown",
   "metadata": {},
   "source": []
  },
  {
   "cell_type": "markdown",
   "metadata": {},
   "source": [
    "### point\n",
    "# . point 1\n",
    "# . point 2\n",
    "# . point 3"
   ]
  },
  {
   "cell_type": "markdown",
   "metadata": {},
   "source": [
    "# .point\n",
    "* **point**\n",
    "* *point*\n",
    "* ***point***\n"
   ]
  },
  {
   "cell_type": "markdown",
   "metadata": {},
   "source": [
    "<img src='download.png' />"
   ]
  },
  {
   "cell_type": "markdown",
   "metadata": {},
   "source": []
  },
  {
   "cell_type": "markdown",
   "metadata": {},
   "source": [
    "### Adding Link to mark down\n",
    "Google Site - <a href=\"https://www.google.com/\">Google</a>\n"
   ]
  },
  {
   "cell_type": "markdown",
   "metadata": {},
   "source": [
    "### programming\n",
    "# . python version 3.7\n",
    "# . Functional programming\n",
    "# . oop\n",
    "# . scripting Programming"
   ]
  },
  {
   "cell_type": "code",
   "execution_count": 8,
   "metadata": {},
   "outputs": [
    {
     "name": "stdout",
     "output_type": "stream",
     "text": [
      "Hello\n"
     ]
    }
   ],
   "source": [
    "print('Hello')"
   ]
  },
  {
   "cell_type": "code",
   "execution_count": 5,
   "metadata": {},
   "outputs": [
    {
     "name": "stdout",
     "output_type": "stream",
     "text": [
      "Hello, Gitam\n",
      "Vizag\n"
     ]
    }
   ],
   "source": [
    "print('Hello, Gitam')\n",
    "print('Vizag')"
   ]
  },
  {
   "cell_type": "code",
   "execution_count": 7,
   "metadata": {},
   "outputs": [
    {
     "name": "stdout",
     "output_type": "stream",
     "text": [
      "Hello Gitam  |||  Vizag\n"
     ]
    }
   ],
   "source": [
    "print('Hello Gitam',' ||| ',end=' ')\n",
    "print('Vizag')"
   ]
  },
  {
   "cell_type": "code",
   "execution_count": 12,
   "metadata": {},
   "outputs": [
    {
     "name": "stdout",
     "output_type": "stream",
     "text": [
      "100\n",
      "python programming\n",
      "python programming\n",
      "a\n",
      "<class 'int'>\n",
      "<class 'str'>\n",
      "<class 'str'>\n",
      "<class 'str'>\n",
      "<class 'float'>\n"
     ]
    }
   ],
   "source": [
    "a = 100\n",
    "s = 'python programming'\n",
    "s1 = \"python programming\"\n",
    "s2 = 'a'\n",
    "b = 16.233822063651201\n",
    "print(a)\n",
    "print(s)\n",
    "print(s1)\n",
    "print(s2)\n",
    "print(type(a))\n",
    "print(type(s))\n",
    "print(type(s1))\n",
    "print(type(s2))\n",
    "print(type(b))"
   ]
  },
  {
   "cell_type": "markdown",
   "metadata": {},
   "source": [
    "Data type conversions\n",
    "# . int() converts the input into int type\n",
    "# . float() converts the input into the float\n",
    "# . str() converts the input into the string"
   ]
  },
  {
   "cell_type": "code",
   "execution_count": 13,
   "metadata": {},
   "outputs": [
    {
     "name": "stdout",
     "output_type": "stream",
     "text": [
      "100 <class 'int'>\n",
      "100 <class 'str'>\n"
     ]
    }
   ],
   "source": [
    "a = 100\n",
    "print(a,end=\" \")\n",
    "print(type(a))\n",
    "s1 = str(a)\n",
    "print(s1,end=\" \")\n",
    "print(type(s1))\n"
   ]
  },
  {
   "cell_type": "code",
   "execution_count": 14,
   "metadata": {},
   "outputs": [
    {
     "name": "stdout",
     "output_type": "stream",
     "text": [
      "100 <class 'str'>\n",
      "100.0 <class 'float'>\n",
      "100 <class 'int'>\n"
     ]
    }
   ],
   "source": [
    "s1 = \"100\"\n",
    "print(s1,end=\" \")\n",
    "print(type(s1))\n",
    "a1 = float(s1)\n",
    "print(a1,end = ' ')\n",
    "print(type(a1))\n",
    "a2 = int(a1) #int()\n",
    "print(a2,end = ' ')\n",
    "print(type(a2))\n"
   ]
  },
  {
   "cell_type": "code",
   "execution_count": 15,
   "metadata": {},
   "outputs": [
    {
     "name": "stdout",
     "output_type": "stream",
     "text": [
      "4\n"
     ]
    }
   ],
   "source": [
    "# Digit Count of a number\n",
    "a = 1234\n",
    "print(len(str(a)))"
   ]
  },
  {
   "cell_type": "markdown",
   "metadata": {},
   "source": [
    "### input() function\n",
    "# . Read input of the python program\n",
    "# . Read the input in terms of string format"
   ]
  },
  {
   "cell_type": "code",
   "execution_count": 1,
   "metadata": {},
   "outputs": [
    {
     "name": "stdout",
     "output_type": "stream",
     "text": [
      "Enter your Namevenu\n",
      "venu <class 'str'>\n"
     ]
    }
   ],
   "source": [
    "s1 = input(\"Enter your Name\")\n",
    "print(s1, type(s1))"
   ]
  },
  {
   "cell_type": "code",
   "execution_count": 3,
   "metadata": {},
   "outputs": [
    {
     "name": "stdout",
     "output_type": "stream",
     "text": [
      "Enter a number235\n",
      "235 <class 'int'>\n"
     ]
    }
   ],
   "source": [
    "a1 = int(input('Enter a number'))\n",
    "print(a1,type(a1))"
   ]
  },
  {
   "cell_type": "code",
   "execution_count": 5,
   "metadata": {},
   "outputs": [
    {
     "name": "stdout",
     "output_type": "stream",
     "text": [
      "Enter a number10.5\n",
      "10.5 <class 'float'>\n"
     ]
    }
   ],
   "source": [
    "a1 = float(input('Enter a number'))\n",
    "print(a1,type(a1))"
   ]
  },
  {
   "cell_type": "markdown",
   "metadata": {},
   "source": [
    "### Operators\n",
    "- +\n",
    "- -\n",
    "- *\n",
    "- / \n",
    "- //"
   ]
  },
  {
   "cell_type": "code",
   "execution_count": 16,
   "metadata": {},
   "outputs": [
    {
     "name": "stdout",
     "output_type": "stream",
     "text": [
      "3.3333333333333335\n",
      "3\n",
      "8\n"
     ]
    }
   ],
   "source": [
    "print(10/3)\n",
    "print(10//3)\n",
    "print(2**3)"
   ]
  },
  {
   "cell_type": "code",
   "execution_count": 17,
   "metadata": {},
   "outputs": [
    {
     "name": "stdout",
     "output_type": "stream",
     "text": [
      "8.0\n"
     ]
    }
   ],
   "source": [
    "# Preceding Levels of Operators\n",
    "# power, Division, addition\n",
    "x = 1 + 2 ** 3 / 4 + 5\n",
    "print(x)"
   ]
  },
  {
   "cell_type": "markdown",
   "metadata": {},
   "source": [
    "### Logical Operators\n",
    "- and\n",
    "- or\n",
    "- not"
   ]
  },
  {
   "cell_type": "code",
   "execution_count": 18,
   "metadata": {},
   "outputs": [
    {
     "name": "stdout",
     "output_type": "stream",
     "text": [
      "True <class 'bool'>\n",
      "False <class 'bool'>\n"
     ]
    }
   ],
   "source": [
    "a = 10\n",
    "b = (a > 9) and (a >= 10)\n",
    "print(b,type(b))\n",
    "b = (a > 9) and (a > 100)\n",
    "print(b,type(b))"
   ]
  },
  {
   "cell_type": "markdown",
   "metadata": {},
   "source": [
    "### Control flow statements\n",
    "-  conditional statements\n",
    "  -  if-else\n",
    "- looping Statements\n",
    "  - while\n",
    "  - for"
   ]
  },
  {
   "cell_type": "code",
   "execution_count": 1,
   "metadata": {},
   "outputs": [
    {
     "name": "stdout",
     "output_type": "stream",
     "text": [
      "5\n",
      "odd\n"
     ]
    }
   ],
   "source": [
    "# Read a number as input\n",
    "# Print the ouput as even or odd\n",
    "a1 = int(input(''))\n",
    "if a1%2 == 0:\n",
    "    print('Even')\n",
    "else:\n",
    "    print('odd')"
   ]
  },
  {
   "cell_type": "code",
   "execution_count": 2,
   "metadata": {},
   "outputs": [
    {
     "name": "stdout",
     "output_type": "stream",
     "text": [
      "-1\n",
      "Negative number\n"
     ]
    }
   ],
   "source": [
    "# read a number as input\n",
    "# Print the output as zero, positive number or Negative number\n",
    "a2 = int(input(''))\n",
    "if a2 == 0:\n",
    "    print('zero')\n",
    "elif a2 > 0:\n",
    "    print('Positive number')\n",
    "elif a2 < 0:\n",
    "    print('Negative number')"
   ]
  },
  {
   "cell_type": "code",
   "execution_count": 4,
   "metadata": {},
   "outputs": [
    {
     "ename": "SyntaxError",
     "evalue": "invalid syntax (<ipython-input-4-c838fba9d386>, line 1)",
     "output_type": "error",
     "traceback": [
      "\u001b[1;36m  File \u001b[1;32m\"<ipython-input-4-c838fba9d386>\"\u001b[1;36m, line \u001b[1;32m1\u001b[0m\n\u001b[1;33m    -string-\u001b[0m\n\u001b[1;37m            ^\u001b[0m\n\u001b[1;31mSyntaxError\u001b[0m\u001b[1;31m:\u001b[0m invalid syntax\n"
     ]
    }
   ],
   "source": [
    "-string-"
   ]
  },
  {
   "cell_type": "code",
   "execution_count": null,
   "metadata": {},
   "outputs": [],
   "source": []
  }
 ],
 "metadata": {
  "kernelspec": {
   "display_name": "Python 3",
   "language": "python",
   "name": "python3"
  },
  "language_info": {
   "codemirror_mode": {
    "name": "ipython",
    "version": 3
   },
   "file_extension": ".py",
   "mimetype": "text/x-python",
   "name": "python",
   "nbconvert_exporter": "python",
   "pygments_lexer": "ipython3",
   "version": "3.7.1"
  }
 },
 "nbformat": 4,
 "nbformat_minor": 2
}
